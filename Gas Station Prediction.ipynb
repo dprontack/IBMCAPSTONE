{
 "cells": [
  {
   "cell_type": "markdown",
   "metadata": {},
   "source": [
    "# Gas station prediction\n",
    "\n",
    "## Introduction/Business Problem\n",
    "\n",
    "Gas stations are required throughout the city to supply fuel for transportation. They can often be found in dense retail sectors that have a variety of other venues present within a certain radius. Furthermore, you often see different companies opening gas stations in close approximation to each other.  \n",
    "\n",
    "The problem is, how many gas stations are typically built to meet the needs of the community? This is a crucial problem for not only gas companies but also city planning. Allowing too many gas stations results in less area for local businesses to open their stores. The stations also have negative impacts on the environment as the sites they are built on cannot be used after the gas station is removed. Therefore, it would be beneficial to predict how many gas stations are typically built in any given area so that it can inform future design and build recommendations. (https://www.theglobeandmail.com/report-on-business/industry-news/property-report/life-after-corner-gas-the-challenges-of-developing-old-service-stations/article32219739/)  \n",
    "\n",
    "Ottawa, ON Canada is going to be used as the test city as it has a variety of different retail spaces and city densities that can be a good representation of how gas stations are distributed.\n",
    "\n",
    "\n",
    "\n"
   ]
  },
  {
   "cell_type": "markdown",
   "metadata": {},
   "source": [
    "## Data\n",
    "\n",
    "The data that’s going to be used is primarily the Foursquare API data. First the location and label of the venues will be used to identify gas stations using the venues search endpoint and limiting the category. Secondly the other venues in the area will be identified grouped by their and counted.  Secondly, population data at an FSA (forward station area) level will be used. This data will be collected from Statistics Canada ( Example can be found here: https://www12.statcan.gc.ca/census-recensement/2016/dp-pd/hlt-fst/pd-pl/Table.cfm?Lang=Eng&T=1201&S=22&O=A). The longitude and latitude of the FSAs will be acquired through the method used in the previous project using the geocoder package.\n",
    "\n",
    "For each gas station in Ottawa, the number of gas stations located within a 2km radius will be identified and used as the dependent variable. The population of the gas station will be the total population of every FSA within a 2km radius. Similarly, only the other venues within a 2km radius will be used as predictors. \n",
    "\n",
    "After the data is gathered and prepared a variety of regression based models will be used to predict the number of surrounding gas stations with the collected data. \n",
    "\n",
    "\n",
    "### Example of Foursquare API result.\n",
    "#### Category data will be used in the analysis"
   ]
  },
  {
   "cell_type": "code",
   "execution_count": 10,
   "metadata": {},
   "outputs": [],
   "source": [
    "import requests\n",
    "import pandas as pd\n",
    "import numpy as np\n",
    "import seaborn as sns\n",
    "import re\n",
    "from matplotlib import pyplot as plt\n",
    "from bs4 import BeautifulSoup\n",
    "#Set request parameters\n",
    "CLIENT_ID = 'D2CKJKGH5FB0CCTRQNUHPTYJTZNJLZCVKPUDDO5UACTUF3NK'\n",
    "CLIENT_SECRET = 'QD14BR5AFKUH1Q5A3F303ZRIE1I0KXIZLVTVJA305V1MNFAH'\n",
    "VERSION = '20200601'\n",
    "LIMIT = 100\n",
    "gas_station_id = '4bf58dd8d48988d113951735'\n",
    "city = 'Ottawa, ON'\n",
    "limit = 50\n",
    "nw = (45.390671, -76.097741)\n",
    "nn = (45.380876, -75.799434)\n",
    "ne = (45.423567, -75.469810)\n",
    "se = (45.218942, -75.550669)\n",
    "ss = (45.111716, -75.838242)\n",
    "grid_search = [nw,nn,ne,se,ss]\n"
   ]
  },
  {
   "cell_type": "markdown",
   "metadata": {},
   "source": [
    "Using Google Maps"
   ]
  },
  {
   "cell_type": "code",
   "execution_count": 11,
   "metadata": {},
   "outputs": [
    {
     "data": {
      "text/html": [
       "<div>\n",
       "<style scoped>\n",
       "    .dataframe tbody tr th:only-of-type {\n",
       "        vertical-align: middle;\n",
       "    }\n",
       "\n",
       "    .dataframe tbody tr th {\n",
       "        vertical-align: top;\n",
       "    }\n",
       "\n",
       "    .dataframe thead th {\n",
       "        text-align: right;\n",
       "    }\n",
       "</style>\n",
       "<table border=\"1\" class=\"dataframe\">\n",
       "  <thead>\n",
       "    <tr style=\"text-align: right;\">\n",
       "      <th></th>\n",
       "      <th>FSA</th>\n",
       "      <th>City</th>\n",
       "    </tr>\n",
       "  </thead>\n",
       "  <tbody>\n",
       "    <tr>\n",
       "      <td>1</td>\n",
       "      <td>K2A</td>\n",
       "      <td>Ottawa</td>\n",
       "    </tr>\n",
       "    <tr>\n",
       "      <td>2</td>\n",
       "      <td>K4A</td>\n",
       "      <td>Ottawa</td>\n",
       "    </tr>\n",
       "    <tr>\n",
       "      <td>3</td>\n",
       "      <td>K1B</td>\n",
       "      <td>Ottawa</td>\n",
       "    </tr>\n",
       "    <tr>\n",
       "      <td>4</td>\n",
       "      <td>K2B</td>\n",
       "      <td>Ottawa</td>\n",
       "    </tr>\n",
       "    <tr>\n",
       "      <td>5</td>\n",
       "      <td>K4B</td>\n",
       "      <td>Ottawa</td>\n",
       "    </tr>\n",
       "  </tbody>\n",
       "</table>\n",
       "</div>"
      ],
      "text/plain": [
       "   FSA    City\n",
       "1  K2A  Ottawa\n",
       "2  K4A  Ottawa\n",
       "3  K1B  Ottawa\n",
       "4  K2B  Ottawa\n",
       "5  K4B  Ottawa"
      ]
     },
     "execution_count": 11,
     "metadata": {},
     "output_type": "execute_result"
    }
   ],
   "source": [
    "result = requests.get('https://en.wikipedia.org/wiki/List_of_postal_codes_of_Canada:_K')\n",
    "bs = BeautifulSoup(result.content,\"lxml\")\n",
    "fsa_city = []\n",
    "for i in bs.find_all(\"td\"):\n",
    "    try:\n",
    "        fsa_city.append((i.find_all(\"b\")[0].text.strip(),i.find_all(\"b\")[1].text.strip()))\n",
    "    except IndexError as e:\n",
    "        continue\n",
    "fsa_city = pd.DataFrame(fsa_city,columns=[\"FSA\",\"City\"]).iloc[1:,:]\n",
    "fsa_city.head()"
   ]
  },
  {
   "cell_type": "code",
   "execution_count": null,
   "metadata": {},
   "outputs": [],
   "source": []
  },
  {
   "cell_type": "code",
   "execution_count": 168,
   "metadata": {},
   "outputs": [
    {
     "data": {
      "text/plain": [
       "0                 Carp\n",
       "1               Ottawa\n",
       "2               Kanata\n",
       "4             Dunrobin\n",
       "9             Gatineau\n",
       "13         Stittsville\n",
       "17                None\n",
       "19            Arnprior\n",
       "23              Nepean\n",
       "39           Luskville\n",
       "45             Almonte\n",
       "46     Ottawa Division\n",
       "19              Aylmer\n",
       "0           Cumberland\n",
       "2              Orléans\n",
       "8           Gloucester\n",
       "16    Carlsbad Springs\n",
       "29                Vars\n",
       "38              Vanier\n",
       "7             Metcalfe\n",
       "31           Barrhaven\n",
       "1             Richmond\n",
       "3       Carleton Place\n",
       "16          Kemptville\n",
       "Name: city, dtype: object"
      ]
     },
     "execution_count": 168,
     "metadata": {},
     "output_type": "execute_result"
    }
   ],
   "source": [
    "#First Resulting gas stations\n",
    "result_columns = [\"venue_id\",\"venue_name\",\"lat\",\"lng\",\"postal_code\",'city',\"category\"]\n",
    "def string_value_check(r,value):\n",
    "    try:\n",
    "        return r[value]\n",
    "    except KeyError:\n",
    "        return \"None\"\n",
    "\n",
    "def extract_venue_info(results):\n",
    "    venue_raw = [\n",
    "        \n",
    "           (r['venue']['id'],\n",
    "            r['venue']['name'],\n",
    "            r['venue']['location']['lat'],\n",
    "            r['venue']['location']['lng'],\n",
    "            string_value_check(r[\"venue\"][\"location\"],\"postalCode\"),\n",
    "            string_value_check(r[\"venue\"][\"location\"],\"city\"),\n",
    "            r['venue']['categories'][0]['name']\n",
    "            )\n",
    "         for r in results['response']['groups'][0]['items']\n",
    "            ]\n",
    "    return pd.DataFrame(venue_raw,columns=result_columns)\n",
    "\n",
    "initial_gas_stations = pd.DataFrame(columns=result_columns)\n",
    "\n",
    "for lat, lng in grid_search:\n",
    "    RADIUS = 25000\n",
    "    url = 'https://api.foursquare.com/v2/venues/explore?&client_id={}&client_secret={}&v={}&ll={},{}&categoryId={}&limit={}&radius={}'.format(\n",
    "            CLIENT_ID, \n",
    "            CLIENT_SECRET, \n",
    "            VERSION,\n",
    "            lat,\n",
    "            lng,\n",
    "            gas_station_id,\n",
    "            limit,\n",
    "            RADIUS\n",
    "            )\n",
    "    initial_gas_stations = initial_gas_stations.append(extract_venue_info(requests.get(url).json()))\n",
    "initial_gas_stations = initial_gas_stations.drop_duplicates()\n",
    "initial_gas_stations.city.drop_duplicates()"
   ]
  },
  {
   "cell_type": "code",
   "execution_count": 212,
   "metadata": {},
   "outputs": [
    {
     "data": {
      "text/html": [
       "<div>\n",
       "<style scoped>\n",
       "    .dataframe tbody tr th:only-of-type {\n",
       "        vertical-align: middle;\n",
       "    }\n",
       "\n",
       "    .dataframe tbody tr th {\n",
       "        vertical-align: top;\n",
       "    }\n",
       "\n",
       "    .dataframe thead th {\n",
       "        text-align: right;\n",
       "    }\n",
       "</style>\n",
       "<table border=\"1\" class=\"dataframe\">\n",
       "  <thead>\n",
       "    <tr style=\"text-align: right;\">\n",
       "      <th></th>\n",
       "      <th>venue_id</th>\n",
       "      <th>venue_name</th>\n",
       "      <th>lat</th>\n",
       "      <th>lng</th>\n",
       "      <th>postal_code</th>\n",
       "      <th>city</th>\n",
       "      <th>category</th>\n",
       "    </tr>\n",
       "  </thead>\n",
       "  <tbody>\n",
       "    <tr>\n",
       "      <td>1</td>\n",
       "      <td>4b2b8249f964a520f8b624e3</td>\n",
       "      <td>Ralph &amp; Son's</td>\n",
       "      <td>45.352134</td>\n",
       "      <td>-75.835712</td>\n",
       "      <td>None</td>\n",
       "      <td>Ottawa</td>\n",
       "      <td>Diner</td>\n",
       "    </tr>\n",
       "    <tr>\n",
       "      <td>2</td>\n",
       "      <td>4b26a38df964a520cd7e24e3</td>\n",
       "      <td>Shell</td>\n",
       "      <td>45.350954</td>\n",
       "      <td>-75.926538</td>\n",
       "      <td>K2K 2R9</td>\n",
       "      <td>Kanata</td>\n",
       "      <td>Gas Station</td>\n",
       "    </tr>\n",
       "    <tr>\n",
       "      <td>3</td>\n",
       "      <td>4b666374f964a520da1f2be3</td>\n",
       "      <td>Esso</td>\n",
       "      <td>45.342269</td>\n",
       "      <td>-75.917041</td>\n",
       "      <td>K2K 2M5</td>\n",
       "      <td>Ottawa</td>\n",
       "      <td>Gas Station</td>\n",
       "    </tr>\n",
       "    <tr>\n",
       "      <td>4</td>\n",
       "      <td>4c63230fde1b2d7f490be470</td>\n",
       "      <td>MacEWEN Gas</td>\n",
       "      <td>45.383418</td>\n",
       "      <td>-75.969626</td>\n",
       "      <td>K2K 1X7</td>\n",
       "      <td>Dunrobin</td>\n",
       "      <td>Gas Station</td>\n",
       "    </tr>\n",
       "    <tr>\n",
       "      <td>5</td>\n",
       "      <td>4c78288d81bca0930328f914</td>\n",
       "      <td>Petro-Canada</td>\n",
       "      <td>45.308107</td>\n",
       "      <td>-75.915422</td>\n",
       "      <td>K2T 1L2</td>\n",
       "      <td>Kanata</td>\n",
       "      <td>Gas Station</td>\n",
       "    </tr>\n",
       "  </tbody>\n",
       "</table>\n",
       "</div>"
      ],
      "text/plain": [
       "                   venue_id     venue_name        lat        lng postal_code  \\\n",
       "1  4b2b8249f964a520f8b624e3  Ralph & Son's  45.352134 -75.835712        None   \n",
       "2  4b26a38df964a520cd7e24e3          Shell  45.350954 -75.926538     K2K 2R9   \n",
       "3  4b666374f964a520da1f2be3           Esso  45.342269 -75.917041     K2K 2M5   \n",
       "4  4c63230fde1b2d7f490be470    MacEWEN Gas  45.383418 -75.969626     K2K 1X7   \n",
       "5  4c78288d81bca0930328f914   Petro-Canada  45.308107 -75.915422     K2T 1L2   \n",
       "\n",
       "       city     category  \n",
       "1    Ottawa        Diner  \n",
       "2    Kanata  Gas Station  \n",
       "3    Ottawa  Gas Station  \n",
       "4  Dunrobin  Gas Station  \n",
       "5    Kanata  Gas Station  "
      ]
     },
     "execution_count": 212,
     "metadata": {},
     "output_type": "execute_result"
    }
   ],
   "source": [
    "city_filter = (initial_gas_stations.postal_code.str[:3].isin(fsa_city.FSA))|(initial_gas_stations.city==\"Ottawa\")\n",
    "initial_gas_stations = initial_gas_stations.loc[city_filter]\n",
    "initial_gas_stations.head()"
   ]
  },
  {
   "cell_type": "code",
   "execution_count": 213,
   "metadata": {},
   "outputs": [],
   "source": [
    "nearby_stations = pd.DataFrame(columns=result_columns+[\"station_id\"])\n",
    "\n",
    "def get_nearby_gas_stations(station_id,lat,lng):\n",
    "    RADIUS = 2000\n",
    "    url = 'https://api.foursquare.com/v2/venues/explore?&client_id={}&client_secret={}&v={}&ll={},{}&categoryId={}&limit={}&radius={}'.format(\n",
    "            CLIENT_ID, \n",
    "            CLIENT_SECRET, \n",
    "            VERSION,\n",
    "            lat,\n",
    "            lng,\n",
    "            gas_station_id,\n",
    "            limit,\n",
    "            RADIUS\n",
    "            )\n",
    "    results = requests.get(url).json()\n",
    "    near_gas_stations = extract_venue_info(results)\n",
    "    near_gas_stations[\"station_id\"] = [station_id]*near_gas_stations.shape[0]\n",
    "    return near_gas_stations\n",
    "\n",
    "#Find the nearby gas stations for each of the initial gas stations\n",
    "for i,s in initial_gas_stations.iterrows():\n",
    "    nearby_stations = nearby_stations.append(get_nearby_gas_stations(s[\"venue_id\"],s[\"lat\"],s[\"lng\"]))"
   ]
  },
  {
   "cell_type": "code",
   "execution_count": 214,
   "metadata": {},
   "outputs": [
    {
     "name": "stdout",
     "output_type": "stream",
     "text": [
      "Unchecked stations left: 221\n",
      "Unchecked stations left: 1\n"
     ]
    }
   ],
   "source": [
    "unchecked_stations = nearby_stations.loc[nearby_stations.venue_id.isin(nearby_stations.station_id) == False]\n",
    "unchecked_stations[result_columns].drop_duplicates()\n",
    "for I in range(10):\n",
    "    num_unchecked = unchecked_stations.shape[0]\n",
    "    if num_unchecked != 0:\n",
    "        print(\"Unchecked stations left: {}\".format(num_unchecked))\n",
    "        for i,s in unchecked_stations.iterrows():\n",
    "            nearby_stations = nearby_stations.append(get_nearby_gas_stations(s[\"venue_id\"],s[\"lat\"],s[\"lng\"]))\n",
    "            \n",
    "        unchecked_stations = nearby_stations.loc[nearby_stations.venue_id.isin(nearby_stations.station_id) == False]\n",
    "        unchecked_stations[result_columns].drop_duplicates()\n",
    "\n"
   ]
  },
  {
   "cell_type": "code",
   "execution_count": 227,
   "metadata": {},
   "outputs": [
    {
     "data": {
      "text/html": [
       "<div>\n",
       "<style scoped>\n",
       "    .dataframe tbody tr th:only-of-type {\n",
       "        vertical-align: middle;\n",
       "    }\n",
       "\n",
       "    .dataframe tbody tr th {\n",
       "        vertical-align: top;\n",
       "    }\n",
       "\n",
       "    .dataframe thead th {\n",
       "        text-align: right;\n",
       "    }\n",
       "</style>\n",
       "<table border=\"1\" class=\"dataframe\">\n",
       "  <thead>\n",
       "    <tr style=\"text-align: right;\">\n",
       "      <th></th>\n",
       "      <th>venue_id</th>\n",
       "    </tr>\n",
       "  </thead>\n",
       "  <tbody>\n",
       "    <tr>\n",
       "      <td>count</td>\n",
       "      <td>191.000000</td>\n",
       "    </tr>\n",
       "    <tr>\n",
       "      <td>mean</td>\n",
       "      <td>5.471204</td>\n",
       "    </tr>\n",
       "    <tr>\n",
       "      <td>std</td>\n",
       "      <td>2.779238</td>\n",
       "    </tr>\n",
       "    <tr>\n",
       "      <td>min</td>\n",
       "      <td>0.000000</td>\n",
       "    </tr>\n",
       "    <tr>\n",
       "      <td>25%</td>\n",
       "      <td>3.000000</td>\n",
       "    </tr>\n",
       "    <tr>\n",
       "      <td>50%</td>\n",
       "      <td>6.000000</td>\n",
       "    </tr>\n",
       "    <tr>\n",
       "      <td>75%</td>\n",
       "      <td>7.000000</td>\n",
       "    </tr>\n",
       "    <tr>\n",
       "      <td>max</td>\n",
       "      <td>14.000000</td>\n",
       "    </tr>\n",
       "  </tbody>\n",
       "</table>\n",
       "</div>"
      ],
      "text/plain": [
       "         venue_id\n",
       "count  191.000000\n",
       "mean     5.471204\n",
       "std      2.779238\n",
       "min      0.000000\n",
       "25%      3.000000\n",
       "50%      6.000000\n",
       "75%      7.000000\n",
       "max     14.000000"
      ]
     },
     "execution_count": 227,
     "metadata": {},
     "output_type": "execute_result"
    }
   ],
   "source": [
    "nearby_stations = nearby_stations.drop_duplicates()\n",
    "nearby_station_count = nearby_stations.groupby(\"station_id\")[\"venue_id\"].count().reset_index()\n",
    "nearby_station_count[\"venue_id\"] = nearby_station_count[\"venue_id\"] -1\n",
    "nearby_station_count.describe()"
   ]
  },
  {
   "cell_type": "markdown",
   "metadata": {},
   "source": [
    "## Gas Station Count Distribution analysis\n",
    "### Since we are measuring the number of gas stations in a fixed area. Our data may follow a poisson distribution. "
   ]
  },
  {
   "cell_type": "code",
   "execution_count": 237,
   "metadata": {},
   "outputs": [
    {
     "data": {
      "text/plain": [
       "<matplotlib.axes._subplots.AxesSubplot at 0x18ee5c73a08>"
      ]
     },
     "execution_count": 237,
     "metadata": {},
     "output_type": "execute_result"
    },
    {
     "data": {
      "image/png": "[encoded data removed]",
      "text/plain": [
       "<Figure size 432x288 with 1 Axes>"
      ]
     },
     "metadata": {
      "needs_background": "light"
     },
     "output_type": "display_data"
    }
   ],
   "source": [
    "sns.distplot(nearby_station_count.venue_id,bins=7)"
   ]
  },
  {
   "cell_type": "markdown",
   "metadata": {},
   "source": [
    "#### The distribution has a non zero right skewed distribution characteristic of a poisson distribution. Lets do a QQ-plot to see if the data lines up to the expected quiantiles"
   ]
  },
  {
   "cell_type": "code",
   "execution_count": 238,
   "metadata": {},
   "outputs": [
    {
     "data": {
      "text/plain": [
       "((array([ 0.,  1.,  1.,  1.,  1.,  2.,  2.,  2.,  2.,  2.,  2.,  2.,  2.,\n",
       "          2.,  2.,  2.,  2.,  3.,  3.,  3.,  3.,  3.,  3.,  3.,  3.,  3.,\n",
       "          3.,  3.,  3.,  3.,  3.,  3.,  3.,  3.,  3.,  3.,  3.,  3.,  3.,\n",
       "          4.,  4.,  4.,  4.,  4.,  4.,  4.,  4.,  4.,  4.,  4.,  4.,  4.,\n",
       "          4.,  4.,  4.,  4.,  4.,  4.,  4.,  4.,  4.,  4.,  4.,  4.,  4.,\n",
       "          4.,  4.,  4.,  4.,  5.,  5.,  5.,  5.,  5.,  5.,  5.,  5.,  5.,\n",
       "          5.,  5.,  5.,  5.,  5.,  5.,  5.,  5.,  5.,  5.,  5.,  5.,  5.,\n",
       "          5.,  5.,  5.,  5.,  5.,  5.,  5.,  5.,  5.,  5.,  5.,  6.,  6.,\n",
       "          6.,  6.,  6.,  6.,  6.,  6.,  6.,  6.,  6.,  6.,  6.,  6.,  6.,\n",
       "          6.,  6.,  6.,  6.,  6.,  6.,  6.,  6.,  6.,  6.,  6.,  6.,  6.,\n",
       "          6.,  6.,  7.,  7.,  7.,  7.,  7.,  7.,  7.,  7.,  7.,  7.,  7.,\n",
       "          7.,  7.,  7.,  7.,  7.,  7.,  7.,  7.,  7.,  7.,  7.,  7.,  8.,\n",
       "          8.,  8.,  8.,  8.,  8.,  8.,  8.,  8.,  8.,  8.,  8.,  8.,  8.,\n",
       "          8.,  8.,  9.,  9.,  9.,  9.,  9.,  9.,  9.,  9.,  9.,  9., 10.,\n",
       "         10., 10., 10., 10., 10., 11., 11., 12., 13.]),\n",
       "  array([ 0,  0,  0,  0,  0,  1,  1,  1,  1,  1,  1,  1,  1,  1,  1,  1,  1,\n",
       "          1,  1,  1,  2,  2,  2,  2,  2,  2,  2,  3,  3,  3,  3,  3,  3,  3,\n",
       "          3,  3,  3,  3,  3,  3,  3,  3,  3,  3,  3,  3,  3,  3,  3,  3,  3,\n",
       "          4,  4,  4,  4,  4,  4,  4,  4,  4,  4,  4,  4,  4,  4,  4,  4,  4,\n",
       "          4,  4,  4,  4,  4,  4,  4,  4,  5,  5,  5,  5,  5,  5,  5,  5,  5,\n",
       "          5,  5,  5,  5,  5,  5,  5,  6,  6,  6,  6,  6,  6,  6,  6,  6,  6,\n",
       "          6,  6,  6,  6,  6,  6,  6,  6,  6,  6,  7,  7,  7,  7,  7,  7,  7,\n",
       "          7,  7,  7,  7,  7,  7,  7,  7,  7,  7,  7,  7,  7,  7,  7,  7,  7,\n",
       "          7,  7,  7,  7,  7,  7,  7,  7,  7,  7,  7,  7,  8,  8,  8,  8,  8,\n",
       "          8,  8,  8,  8,  8,  8,  8,  8,  8,  8,  9,  9,  9,  9,  9,  9,  9,\n",
       "          9,  9,  9,  9,  9,  9,  9,  9,  9,  9, 10, 10, 10, 10, 10, 10, 10,\n",
       "         11, 12, 12, 14], dtype=int64)),\n",
       " (1.1606050168172792, -0.8787028407018678, 0.9739940903896208))"
      ]
     },
     "execution_count": 238,
     "metadata": {},
     "output_type": "execute_result"
    },
    {
     "data": {
      "image/png": "[encoded data removed]",
      "text/plain": [
       "<Figure size 432x288 with 1 Axes>"
      ]
     },
     "metadata": {
      "needs_background": "light"
     },
     "output_type": "display_data"
    }
   ],
   "source": [
    "import scipy.stats as stats\n",
    "stats.probplot(nearby_station_count.venue_id,nearby_station_count.venue_id.mean(),dist=\"poisson\",plot=plt)"
   ]
  },
  {
   "cell_type": "markdown",
   "metadata": {},
   "source": [
    "### The QQ-Plot is suggesting a poisson as well.\n",
    "To check its statistical significance, I did a Kolmogorov-Smirnov test for goodness of fit"
   ]
  },
  {
   "cell_type": "code",
   "execution_count": 239,
   "metadata": {},
   "outputs": [
    {
     "data": {
      "text/plain": [
       "KstestResult(statistic=0.22663863523539407, pvalue=4.198366184302112e-09)"
      ]
     },
     "execution_count": 239,
     "metadata": {},
     "output_type": "execute_result"
    }
   ],
   "source": [
    "stats.kstest(nearby_station_count.venue_id,\"poisson\",args=[nearby_station_count.venue_id.mean()])"
   ]
  },
  {
   "cell_type": "markdown",
   "metadata": {},
   "source": [
    "P Value is very significant. I am quite confident that this data follows a poisson distribution which is an expected but interesting discovery and could inform how we model this relationship in the future. "
   ]
  },
  {
   "cell_type": "markdown",
   "metadata": {},
   "source": [
    "## Population\n",
    "\n",
    "## To incorperate the populate of the "
   ]
  },
  {
   "cell_type": "code",
   "execution_count": 6,
   "metadata": {},
   "outputs": [
    {
     "data": {
      "text/plain": [
       "''"
      ]
     },
     "execution_count": 6,
     "metadata": {},
     "output_type": "execute_result"
    }
   ],
   "source": [
    "\n",
    "url = r\"https://www.freemaptools.com/ajax/ca/get-canadian-postcodes-inside-radius.php?radius=2&showfsa=false&lat=51.06901665960392&lng=-93.33984375000001\"\n",
    "requests.get(url).text"
   ]
  },
  {
   "cell_type": "code",
   "execution_count": 20,
   "metadata": {},
   "outputs": [
    {
     "ename": "TypeError",
     "evalue": "list indices must be integers or slices, not str",
     "output_type": "error",
     "traceback": [
      "\u001b[1;31m---------------------------------------------------------------------------\u001b[0m",
      "\u001b[1;31mTypeError\u001b[0m                                 Traceback (most recent call last)",
      "\u001b[1;32m<ipython-input-20-583c42a47257>\u001b[0m in \u001b[0;36m<module>\u001b[1;34m\u001b[0m\n\u001b[0;32m     14\u001b[0m \u001b[1;33m\u001b[0m\u001b[0m\n\u001b[0;32m     15\u001b[0m \u001b[0mbs\u001b[0m \u001b[1;33m=\u001b[0m \u001b[0mBeautifulSoup\u001b[0m\u001b[1;33m(\u001b[0m\u001b[0mrequests\u001b[0m\u001b[1;33m.\u001b[0m\u001b[0mget\u001b[0m\u001b[1;33m(\u001b[0m\u001b[0murl\u001b[0m\u001b[1;33m,\u001b[0m\u001b[0mheaders\u001b[0m\u001b[1;33m=\u001b[0m\u001b[0mheaders\u001b[0m\u001b[1;33m)\u001b[0m\u001b[1;33m.\u001b[0m\u001b[0mtext\u001b[0m\u001b[1;33m)\u001b[0m\u001b[1;33m\u001b[0m\u001b[1;33m\u001b[0m\u001b[0m\n\u001b[1;32m---> 16\u001b[1;33m \u001b[0mbs\u001b[0m\u001b[1;33m.\u001b[0m\u001b[0mfind_all\u001b[0m\u001b[1;33m(\u001b[0m\u001b[1;34m\"postcodes\"\u001b[0m\u001b[1;33m)\u001b[0m\u001b[1;33m[\u001b[0m\u001b[1;36m0\u001b[0m\u001b[1;33m]\u001b[0m\u001b[1;33m.\u001b[0m\u001b[0mfind_all\u001b[0m\u001b[1;33m(\u001b[0m\u001b[1;34m\"postcode\"\u001b[0m\u001b[1;33m)\u001b[0m\u001b[1;33m[\u001b[0m\u001b[1;34m\"postcode\"\u001b[0m\u001b[1;33m]\u001b[0m\u001b[1;33m\u001b[0m\u001b[1;33m\u001b[0m\u001b[0m\n\u001b[0m",
      "\u001b[1;31mTypeError\u001b[0m: list indices must be integers or slices, not str"
     ]
    }
   ],
   "source": [
    "fsa_pop\n",
    "\n",
    "url = \"https://www.freemaptools.com/ajax/ca/get-canadian-postcodes-inside-radius.php?radius=2&showfsa=true&lat=45.352134&lng=-75.835712&rn=5842\"\n",
    "\n",
    "headers= {\"Connection\": \"keep-alive\",\n",
    "\"Accept\":\"text/xml\",\n",
    "\"User-Agent\": \"Mozilla/5.0 (Windows NT 10.0; Win64; x64) AppleWebKit/537.36 (KHTML, like Gecko) Chrome/83.0.4103.61 Safari/537.36\",\n",
    "\"X-Requested-With\": \"XMLHttpRequest\",\n",
    "\"Sec-Fetch-Site\": \"same-origin\",\n",
    "\"Sec-Fetch-Mode\": \"cors\",\n",
    "\"Sec-Fetch-Dest\": \"empty\",\n",
    "\"Referer\": \"https://www.freemaptools.com/find-canada-postcodes-inside-radius.htm\",\n",
    "\"Accept-Language\": \"en-US,en;q=0.9\",\n",
    "\"Cookie\": \"PHPSESSID=dcda0f73d2aa8ba5bf8b217a1c950199; __gads=ID=75d3ef6ea8f9157b:T=1591669773:S=ALNI_MZI9OBOBl0cLgPqo-IVookVqmE4EA; _ga=GA1.2.1163297187.1591669773; _gid=GA1.2.1918753602.1591669773; _gat=1\"\n",
    "}fsa\n",
    "\n",
    "bs = BeautifulSoup(requests.get(url,headers=headers).text)\n",
    "fsas = [i[\"postcode\"] for i in bs.find_all(\"postcodes\")[0].find_all(\"postcode\")]\n"
   ]
  },
  {
   "cell_type": "code",
   "execution_count": 28,
   "metadata": {},
   "outputs": [
    {
     "data": {
      "text/plain": [
       "['K1Y', 'K2B', 'K2H']"
      ]
     },
     "execution_count": 28,
     "metadata": {},
     "output_type": "execute_result"
    }
   ],
   "source": []
  },
  {
   "cell_type": "code",
   "execution_count": null,
   "metadata": {},
   "outputs": [],
   "source": []
  }
 ],
 "metadata": {
  "kernelspec": {
   "display_name": "Python 3",
   "language": "python",
   "name": "python3"
  },
  "language_info": {
   "codemirror_mode": {
    "name": "ipython",
    "version": 3
   },
   "file_extension": ".py",
   "mimetype": "text/x-python",
   "name": "python",
   "nbconvert_exporter": "python",
   "pygments_lexer": "ipython3",
   "version": "3.7.4"
  }
 },
 "nbformat": 4,
 "nbformat_minor": 2
}
