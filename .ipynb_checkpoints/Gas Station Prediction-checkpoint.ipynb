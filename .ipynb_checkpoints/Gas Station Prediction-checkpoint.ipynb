{
 "cells": [
  {
   "cell_type": "markdown",
   "metadata": {},
   "source": [
    "# Gas station prediction\n",
    "\n",
    "## Introduction/Business Problem\n",
    "\n",
    "Gas stations are required throughout the city to supply g. They can often be found in dense retail sectors that have a variety of other venues present within a certain radius. Furthermore, you often see different companies opening gas stations in close approximation to each other.  \n",
    "\n",
    "The problem is, how many gas stations are typically built to meet the needs of the community. This is a crucial problem for not only gas companies but also city planning. Allowing too many gas stations results in less area for local businesses to open their stores. The stations also have negative impacts on the environment as the sites they are built on cannot be used after the gas station is removed. Therefore, it would be beneficial to predict how many gas stations are typically built in any given area so that it can inform future design and build recommendations. (https://www.theglobeandmail.com/report-on-business/industry-news/property-report/life-after-corner-gas-the-challenges-of-developing-old-service-stations/article32219739/)  \n",
    "\n",
    "Ottawa, ON Canada is going to be used as the test city as it has a variety of different retail spaces and city densities that can be a good representation of how gas stations are distributed.\n",
    "\n",
    "\n",
    "\n"
   ]
  },
  {
   "attachments": {},
   "cell_type": "markdown",
   "metadata": {},
   "source": [
    "## Data\n",
    "\n",
    "The data that’s going to be used is primarily the Foursquare API data. First the location and label of the venues will be used to identify gas stations using the venues search endpoint and limiting the category. Secondly the other venues in the area will be identified grouped by their and counted.  Secondly, population data at an FSA (forward station area) level will be used. This data will be collected from Statistics Canada ( Example can be found here: https://www12.statcan.gc.ca/census-recensement/2016/dp-pd/hlt-fst/pd-pl/Table.cfm?Lang=Eng&T=1201&S=22&O=A). The longitude and latitude of the FSAs will be acquired through the method used in the previous project using the geocoder package.\n",
    "\n",
    "For each gas station in Ottawa, the number of gas stations located within a 2km radius will be identified and used as the dependent variable. The population of the gas station will be the total population of every FSA within a 2km radius. Similarly, only the other venues within a 2km radius will be used as predictors. \n",
    "\n",
    "After the data is gathered and prepared a variety of regression based models will be used to predict the number of surrounding gas stations with the collected data. \n",
    "\n",
    "\n",
    "### Example of Foursquare API result.\n",
    "#### Category data will be used in the analysis"
   ]
  },
  {
   "cell_type": "code",
   "execution_count": 5,
   "metadata": {},
   "outputs": [],
   "source": [
    "import requests\n",
    "CLIENT_ID = 'D2CKJKGH5FB0CCTRQNUHPTYJTZNJLZCVKPUDDO5UACTUF3NK'\n",
    "CLIENT_SECRET = 'QD14BR5AFKUH1Q5A3F303ZRIE1I0KXIZLVTVJA305V1MNFAH'\n",
    "VERSION = '20200601'\n",
    "LIMIT = 100\n",
    "gas_station_id = '4bf58dd8d48988d113951735'\n",
    "city = 'Ottawa, ON'\n",
    "limit = 50\n",
    "\n",
    "# create the API request URL\n",
    "url = 'https://api.foursquare.com/v2/venues/explore?&client_id={}&client_secret={}&v={}&near={}&categoryId={}&limit={}'.format(\n",
    "            CLIENT_ID, \n",
    "            CLIENT_SECRET, \n",
    "            VERSION,\n",
    "            city,\n",
    "            gas_station_id,\n",
    "            limit\n",
    "            )\n",
    "\n",
    "results = requests.get(url).json()"
   ]
  },
  {
   "cell_type": "code",
   "execution_count": 15,
   "metadata": {},
   "outputs": [
    {
     "data": {
      "text/plain": [
       "{'reasons': {'count': 0,\n",
       "  'items': [{'summary': 'This spot is popular',\n",
       "    'type': 'general',\n",
       "    'reasonName': 'globalInteractionReason'}]},\n",
       " 'venue': {'id': '4b7f190af964a520481630e3',\n",
       "  'name': 'Island Park Esso',\n",
       "  'location': {'address': '369 Island Park Dr.',\n",
       "   'crossStreet': 'at Wellington St. W',\n",
       "   'lat': 45.397360459182835,\n",
       "   'lng': -75.7416723492678,\n",
       "   'labeledLatLngs': [{'label': 'display',\n",
       "     'lat': 45.397360459182835,\n",
       "     'lng': -75.7416723492678}],\n",
       "   'cc': 'CA',\n",
       "   'city': 'Ottawa',\n",
       "   'state': 'ON',\n",
       "   'country': 'Canada',\n",
       "   'formattedAddress': ['369 Island Park Dr. (at Wellington St. W)',\n",
       "    'Ottawa ON',\n",
       "    'Canada']},\n",
       "  'categories': [{'id': '4bf58dd8d48988d113951735',\n",
       "    'name': 'Gas Station',\n",
       "    'pluralName': 'Gas Stations',\n",
       "    'shortName': 'Gas Station',\n",
       "    'icon': {'prefix': 'https://ss3.4sqi.net/img/categories_v2/shops/gas_',\n",
       "     'suffix': '.png'},\n",
       "    'primary': True}],\n",
       "  'photos': {'count': 0, 'groups': []}},\n",
       " 'referralId': 'e-0-4b7f190af964a520481630e3-0'}"
      ]
     },
     "execution_count": 15,
     "metadata": {},
     "output_type": "execute_result"
    }
   ],
   "source": [
    "#First Resulting gas station\n",
    "results['response']['groups'][0]['items'][0]"
   ]
  },
  {
   "cell_type": "code",
   "execution_count": null,
   "metadata": {},
   "outputs": [],
   "source": []
  }
 ],
 "metadata": {
  "kernelspec": {
   "display_name": "Python 3",
   "language": "python",
   "name": "python3"
  },
  "language_info": {
   "codemirror_mode": {
    "name": "ipython",
    "version": 3
   },
   "file_extension": ".py",
   "mimetype": "text/x-python",
   "name": "python",
   "nbconvert_exporter": "python",
   "pygments_lexer": "ipython3",
   "version": "3.7.4"
  }
 },
 "nbformat": 4,
 "nbformat_minor": 2
}
